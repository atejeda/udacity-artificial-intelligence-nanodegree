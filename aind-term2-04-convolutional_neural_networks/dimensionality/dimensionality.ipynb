{
 "cells": [
  {
   "cell_type": "markdown",
   "metadata": {},
   "source": [
    "# Convolutional Neural Networks Dimensionality\n",
    "We will not train this CNN; instead, we'll use the executable to study how the dimensionality of the convolutional layer changes, as a function of the supplied arguments."
   ]
  },
  {
   "cell_type": "code",
   "execution_count": 10,
   "metadata": {},
   "outputs": [
    {
     "name": "stdout",
     "output_type": "stream",
     "text": [
      "_________________________________________________________________\n",
      "Layer (type)                 Output Shape              Param #   \n",
      "=================================================================\n",
      "conv2d_13 (Conv2D)           (None, 100, 100, 16)      80        \n",
      "=================================================================\n",
      "Total params: 80.0\n",
      "Trainable params: 80\n",
      "Non-trainable params: 0.0\n",
      "_________________________________________________________________\n"
     ]
    }
   ],
   "source": [
    "from keras.models import Sequential\n",
    "from keras.layers import Conv2D\n",
    "original = Conv2D(filters=16, kernel_size=2, strides=2, padding='valid', activation='relu', input_shape=(200, 200, 1))\n",
    "modified = Conv2D(filters=16, kernel_size=2, strides=2, padding='valid', activation='relu', input_shape=(200, 200, 1))\n",
    "layer = modified\n",
    "model = Sequential()\n",
    "model.add(layer)\n",
    "model.summary()"
   ]
  },
  {
   "cell_type": "markdown",
   "metadata": {},
   "source": [
    "Do the dimensions of the convolutional layer line up with your expectations?\n",
    "\n",
    "Feel free to change the values assigned to the arguments (filters, kernel_size, etc) in your conv-dims.py file.\n",
    "\n",
    "Take note of how the number of parameters in the convolutional layer changes. This corresponds to the value under Param # in the printed output. In the figure above, the convolutional layer has 80 parameters.\n",
    "\n",
    "Also notice how the shape of the convolutional layer changes. This corresponds to the value under Output Shape in the printed output. In the figure above, None corresponds to the batch size, and the convolutional layer has a height of 100, width of 100, and depth of 16.\n"
   ]
  },
  {
   "cell_type": "markdown",
   "metadata": {},
   "source": [
    "## Quiz"
   ]
  },
  {
   "cell_type": "code",
   "execution_count": 11,
   "metadata": {},
   "outputs": [
    {
     "name": "stdout",
     "output_type": "stream",
     "text": [
      "_________________________________________________________________\n",
      "Layer (type)                 Output Shape              Param #   \n",
      "=================================================================\n",
      "conv2d_14 (Conv2D)           (None, 64, 64, 32)        896       \n",
      "=================================================================\n",
      "Total params: 896.0\n",
      "Trainable params: 896\n",
      "Non-trainable params: 0.0\n",
      "_________________________________________________________________\n"
     ]
    }
   ],
   "source": [
    "from keras.models import Sequential\n",
    "from keras.layers import Conv2D\n",
    "\n",
    "model = Sequential()\n",
    "model.add(Conv2D(filters=32, kernel_size=3, strides=2, padding='same', activation='relu', input_shape=(128, 128, 3)))\n",
    "model.summary()"
   ]
  },
  {
   "cell_type": "markdown",
   "metadata": {},
   "source": [
    "## Formulas\n",
    "\n",
    "### Formula: Number of Parameters in a Convolutional Layer\n",
    "\n",
    "The number of parameters in a convolutional layer depends on the supplied values of filters, kernel_size, and input_shape. Let's define a few variables:\n",
    "\n",
    "    K - the number of filters in the convolutional layer\n",
    "    F - the height and width of the convolutional filters\n",
    "    D_in - the depth of the previous layer\n",
    "\n",
    "Notice that K = filters, and F = kernel_size. Likewise, D_in is the last value in the input_shape tuple.\n",
    "\n",
    "Since there are F*F*D_in weights per filter, and the convolutional layer is composed of K filters, the total number of weights in the convolutional layer is K*F*F*D_in. Since there is one bias term per filter, the convolutional layer has K biases. Thus, the number of parameters in the convolutional layer is given by K*F*F*D_in + K.\n",
    "\n",
    "### Formula: Shape of a Convolutional Layer\n",
    "\n",
    "The shape of a convolutional layer depends on the supplied values of kernel_size, input_shape, padding, and stride. Let's define a few variables:\n",
    "\n",
    "    K - the number of filters in the convolutional layer\n",
    "    F - the height and width of the convolutional filters\n",
    "    S - the stride of the convolution\n",
    "    H_in - the height of the previous layer\n",
    "    W_in - the width of the previous layer\n",
    "\n",
    "Notice that K = filters, F = kernel_size, and S = stride. Likewise, H_in and W_in are the first and second value of the input_shape tuple, respectively.\n",
    "\n",
    "The depth of the convolutional layer will always equal the number of filters K.\n",
    "\n",
    "If padding = 'same', then the spatial dimensions of the convolutional layer are the following:\n",
    "\n",
    "    height = ceil(float(H_in) / float(S))\n",
    "    width = ceil(float(W_in) / float(S))\n",
    "\n",
    "If padding = 'valid', then the spatial dimensions of the convolutional layer are the following:\n",
    "\n",
    "    height = ceil(float(H_in - F + 1) / float(S))\n",
    "    width = ceil(float(W_in - F + 1) / float(S))\n",
    "\n"
   ]
  },
  {
   "cell_type": "code",
   "execution_count": null,
   "metadata": {},
   "outputs": [],
   "source": []
  }
 ],
 "metadata": {
  "kernelspec": {
   "display_name": "Python 3",
   "language": "python",
   "name": "python3"
  },
  "language_info": {
   "codemirror_mode": {
    "name": "ipython",
    "version": 3
   },
   "file_extension": ".py",
   "mimetype": "text/x-python",
   "name": "python",
   "nbconvert_exporter": "python",
   "pygments_lexer": "ipython3",
   "version": "3.5.3"
  }
 },
 "nbformat": 4,
 "nbformat_minor": 2
}
